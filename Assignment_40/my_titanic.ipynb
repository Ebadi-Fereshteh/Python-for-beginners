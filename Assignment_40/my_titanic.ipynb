{
 "cells": [
  {
   "cell_type": "code",
   "execution_count": 20,
   "metadata": {},
   "outputs": [],
   "source": [
    "import tensorflow as tf\n",
    "from tensorflow.keras.layers import Dense\n",
    "import pandas as pd\n",
    "import numpy as np\n",
    "from sklearn import preprocessing\n",
    "import matplotlib.pyplot as plt\n",
    "from sklearn.linear_model import Perceptron\n"
   ]
  },
  {
   "cell_type": "code",
   "execution_count": 21,
   "metadata": {},
   "outputs": [],
   "source": [
    "# read train data # src = https://www.kaggle.com/c/titanic/data?select=train.csv\n",
    "data_train = pd.read_csv('data/train.csv')\n",
    "data_test = pd.read_csv('data/test.csv')\n",
    "data_test\n",
    "data_test_survive = pd.read_csv('data/gender_submission.csv')\n",
    "data_test_survive.head()\n",
    "data_test['Survived'] = data_test_survive[['Survived']]"
   ]
  },
  {
   "cell_type": "code",
   "execution_count": 22,
   "metadata": {},
   "outputs": [],
   "source": [
    "import seaborn as sns\n",
    "def missingdata(data):\n",
    "    total = data.isnull().sum().sort_values(ascending = False)\n",
    "    percent = (data.isnull().sum()/data.isnull().count()*100).sort_values(ascending = False)\n",
    "    ms=pd.concat([total, percent], axis=1, keys=['Total', 'Percent'])\n",
    "    ms= ms[ms[\"Percent\"] > 0]\n",
    "    f,ax =plt.subplots(figsize=(8,6))\n",
    "    plt.xticks(rotation='90')\n",
    "    fig=sns.barplot(ms.index, ms[\"Percent\"],color=\"red\",alpha=0.8)\n",
    "    plt.xlabel('Features', fontsize=15)\n",
    "    plt.ylabel('Percent of missing values', fontsize=15)\n",
    "    plt.title('Percent missing data by feature', fontsize=15)\n",
    "    return ms"
   ]
  },
  {
   "cell_type": "code",
   "execution_count": 23,
   "metadata": {},
   "outputs": [
    {
     "name": "stderr",
     "output_type": "stream",
     "text": [
      "C:\\Users\\SONY\\AppData\\Local\\Programs\\Python\\Python38\\lib\\site-packages\\seaborn\\_decorators.py:36: FutureWarning: Pass the following variables as keyword args: x, y. From version 0.12, the only valid positional argument will be `data`, and passing other arguments without an explicit keyword will result in an error or misinterpretation.\n",
      "  warnings.warn(\n"
     ]
    },
    {
     "data": {
      "text/html": [
       "<div>\n",
       "<style scoped>\n",
       "    .dataframe tbody tr th:only-of-type {\n",
       "        vertical-align: middle;\n",
       "    }\n",
       "\n",
       "    .dataframe tbody tr th {\n",
       "        vertical-align: top;\n",
       "    }\n",
       "\n",
       "    .dataframe thead th {\n",
       "        text-align: right;\n",
       "    }\n",
       "</style>\n",
       "<table border=\"1\" class=\"dataframe\">\n",
       "  <thead>\n",
       "    <tr style=\"text-align: right;\">\n",
       "      <th></th>\n",
       "      <th>Total</th>\n",
       "      <th>Percent</th>\n",
       "    </tr>\n",
       "  </thead>\n",
       "  <tbody>\n",
       "    <tr>\n",
       "      <th>Cabin</th>\n",
       "      <td>687</td>\n",
       "      <td>77.104377</td>\n",
       "    </tr>\n",
       "    <tr>\n",
       "      <th>Age</th>\n",
       "      <td>177</td>\n",
       "      <td>19.865320</td>\n",
       "    </tr>\n",
       "    <tr>\n",
       "      <th>Embarked</th>\n",
       "      <td>2</td>\n",
       "      <td>0.224467</td>\n",
       "    </tr>\n",
       "  </tbody>\n",
       "</table>\n",
       "</div>"
      ],
      "text/plain": [
       "          Total    Percent\n",
       "Cabin       687  77.104377\n",
       "Age         177  19.865320\n",
       "Embarked      2   0.224467"
      ]
     },
     "execution_count": 23,
     "metadata": {},
     "output_type": "execute_result"
    },
    {
     "data": {
      "image/png": "[encoded data removed]",
      "text/plain": [
       "<Figure size 576x432 with 1 Axes>"
      ]
     },
     "metadata": {
      "needs_background": "light"
     },
     "output_type": "display_data"
    }
   ],
   "source": [
    "missingdata(data_train)"
   ]
  },
  {
   "cell_type": "code",
   "execution_count": 24,
   "metadata": {},
   "outputs": [
    {
     "data": {
      "text/html": [
       "<div>\n",
       "<style scoped>\n",
       "    .dataframe tbody tr th:only-of-type {\n",
       "        vertical-align: middle;\n",
       "    }\n",
       "\n",
       "    .dataframe tbody tr th {\n",
       "        vertical-align: top;\n",
       "    }\n",
       "\n",
       "    .dataframe thead th {\n",
       "        text-align: right;\n",
       "    }\n",
       "</style>\n",
       "<table border=\"1\" class=\"dataframe\">\n",
       "  <thead>\n",
       "    <tr style=\"text-align: right;\">\n",
       "      <th></th>\n",
       "      <th>Survived</th>\n",
       "      <th>Pclass</th>\n",
       "      <th>Sex</th>\n",
       "      <th>Age</th>\n",
       "      <th>SibSp</th>\n",
       "      <th>Parch</th>\n",
       "      <th>Fare</th>\n",
       "      <th>Embarked</th>\n",
       "      <th>Family</th>\n",
       "    </tr>\n",
       "  </thead>\n",
       "  <tbody>\n",
       "    <tr>\n",
       "      <th>0</th>\n",
       "      <td>0</td>\n",
       "      <td>3</td>\n",
       "      <td>0</td>\n",
       "      <td>22.0</td>\n",
       "      <td>1</td>\n",
       "      <td>0</td>\n",
       "      <td>7.2500</td>\n",
       "      <td>0.0</td>\n",
       "      <td>2</td>\n",
       "    </tr>\n",
       "    <tr>\n",
       "      <th>1</th>\n",
       "      <td>1</td>\n",
       "      <td>1</td>\n",
       "      <td>1</td>\n",
       "      <td>38.0</td>\n",
       "      <td>1</td>\n",
       "      <td>0</td>\n",
       "      <td>71.2833</td>\n",
       "      <td>1.0</td>\n",
       "      <td>2</td>\n",
       "    </tr>\n",
       "    <tr>\n",
       "      <th>2</th>\n",
       "      <td>1</td>\n",
       "      <td>3</td>\n",
       "      <td>1</td>\n",
       "      <td>26.0</td>\n",
       "      <td>0</td>\n",
       "      <td>0</td>\n",
       "      <td>7.9250</td>\n",
       "      <td>0.0</td>\n",
       "      <td>1</td>\n",
       "    </tr>\n",
       "    <tr>\n",
       "      <th>3</th>\n",
       "      <td>1</td>\n",
       "      <td>1</td>\n",
       "      <td>1</td>\n",
       "      <td>35.0</td>\n",
       "      <td>1</td>\n",
       "      <td>0</td>\n",
       "      <td>53.1000</td>\n",
       "      <td>0.0</td>\n",
       "      <td>2</td>\n",
       "    </tr>\n",
       "    <tr>\n",
       "      <th>4</th>\n",
       "      <td>0</td>\n",
       "      <td>3</td>\n",
       "      <td>0</td>\n",
       "      <td>35.0</td>\n",
       "      <td>0</td>\n",
       "      <td>0</td>\n",
       "      <td>8.0500</td>\n",
       "      <td>0.0</td>\n",
       "      <td>1</td>\n",
       "    </tr>\n",
       "  </tbody>\n",
       "</table>\n",
       "</div>"
      ],
      "text/plain": [
       "   Survived  Pclass  Sex   Age  SibSp  Parch     Fare  Embarked  Family\n",
       "0         0       3    0  22.0      1      0   7.2500       0.0       2\n",
       "1         1       1    1  38.0      1      0  71.2833       1.0       2\n",
       "2         1       3    1  26.0      0      0   7.9250       0.0       1\n",
       "3         1       1    1  35.0      1      0  53.1000       0.0       2\n",
       "4         0       3    0  35.0      0      0   8.0500       0.0       1"
      ]
     },
     "execution_count": 24,
     "metadata": {},
     "output_type": "execute_result"
    }
   ],
   "source": [
    "# preprocess Data\n",
    "data_train = data_train.replace(['male','female'],[0, 1]) # male =0, female =1\n",
    "data_train = data_train.replace([\"S\", \"C\", \"Q\"], [0, 1, 2])\n",
    "# data clean\n",
    "\n",
    "data_test = data_test.replace(['male','female'], [0, 1])\n",
    "data_test = data_test.replace(['S','C', 'Q'], [0, 1, 2])\n",
    "\n",
    "data_train['Age'].fillna(data_train['Age'].median(), inplace= True)\n",
    "data_test['Age'].fillna(data_test['Age'].median(), inplace= True)\n",
    "\n",
    "data_train['Embarked'].fillna(data_train['Embarked'].median(), inplace= True)\n",
    "data_test['Embarked'].fillna(data_test['Embarked'].median(), inplace= True)\n",
    "\n",
    "data_test['Fare'].fillna(data_test['Fare'].median(), inplace= True)\n",
    "\n",
    "data_train['Family'] = data_train['SibSp'] + data_train['Parch'] + 1\n",
    "data_test['Family'] = data_test['SibSp'] + data_test['Parch'] + 1\n",
    "\n",
    "\n",
    "drop_col = ['PassengerId', 'Name', 'Ticket', 'Cabin']\n",
    "data_train.drop(drop_col, axis=1, inplace= True)\n",
    "data_test.drop(drop_col, axis=1, inplace= True)\n",
    "\n",
    "data_train.head()"
   ]
  },
  {
   "cell_type": "code",
   "execution_count": 25,
   "metadata": {},
   "outputs": [
    {
     "data": {
      "text/plain": [
       "Survived    1.000000\n",
       "Pclass     -0.338481\n",
       "Sex         0.543351\n",
       "Age        -0.064910\n",
       "SibSp      -0.035322\n",
       "Parch       0.081629\n",
       "Fare        0.257307\n",
       "Embarked    0.106811\n",
       "Family      0.016639\n",
       "Name: Survived, dtype: float64"
      ]
     },
     "execution_count": 25,
     "metadata": {},
     "output_type": "execute_result"
    }
   ],
   "source": [
    "corr = data_train.corr()\n",
    "corr['Survived']"
   ]
  },
  {
   "cell_type": "code",
   "execution_count": 26,
   "metadata": {},
   "outputs": [
    {
     "data": {
      "text/html": [
       "<div>\n",
       "<style scoped>\n",
       "    .dataframe tbody tr th:only-of-type {\n",
       "        vertical-align: middle;\n",
       "    }\n",
       "\n",
       "    .dataframe tbody tr th {\n",
       "        vertical-align: top;\n",
       "    }\n",
       "\n",
       "    .dataframe thead th {\n",
       "        text-align: right;\n",
       "    }\n",
       "</style>\n",
       "<table border=\"1\" class=\"dataframe\">\n",
       "  <thead>\n",
       "    <tr style=\"text-align: right;\">\n",
       "      <th></th>\n",
       "      <th>Survived</th>\n",
       "      <th>Pclass</th>\n",
       "      <th>Sex</th>\n",
       "      <th>Age</th>\n",
       "      <th>SibSp</th>\n",
       "      <th>Parch</th>\n",
       "      <th>Fare</th>\n",
       "      <th>Embarked</th>\n",
       "      <th>Family</th>\n",
       "    </tr>\n",
       "  </thead>\n",
       "  <tbody>\n",
       "    <tr>\n",
       "      <th>0</th>\n",
       "      <td>0.000000</td>\n",
       "      <td>0.127855</td>\n",
       "      <td>0.000000</td>\n",
       "      <td>0.937604</td>\n",
       "      <td>0.042618</td>\n",
       "      <td>0.0</td>\n",
       "      <td>0.308983</td>\n",
       "      <td>0.000000</td>\n",
       "      <td>0.085237</td>\n",
       "    </tr>\n",
       "    <tr>\n",
       "      <th>1</th>\n",
       "      <td>0.012371</td>\n",
       "      <td>0.012371</td>\n",
       "      <td>0.012371</td>\n",
       "      <td>0.470093</td>\n",
       "      <td>0.012371</td>\n",
       "      <td>0.0</td>\n",
       "      <td>0.881836</td>\n",
       "      <td>0.012371</td>\n",
       "      <td>0.024742</td>\n",
       "    </tr>\n",
       "    <tr>\n",
       "      <th>2</th>\n",
       "      <td>0.036495</td>\n",
       "      <td>0.109486</td>\n",
       "      <td>0.036495</td>\n",
       "      <td>0.948876</td>\n",
       "      <td>0.000000</td>\n",
       "      <td>0.0</td>\n",
       "      <td>0.289225</td>\n",
       "      <td>0.000000</td>\n",
       "      <td>0.036495</td>\n",
       "    </tr>\n",
       "    <tr>\n",
       "      <th>3</th>\n",
       "      <td>0.015708</td>\n",
       "      <td>0.015708</td>\n",
       "      <td>0.015708</td>\n",
       "      <td>0.549795</td>\n",
       "      <td>0.015708</td>\n",
       "      <td>0.0</td>\n",
       "      <td>0.834117</td>\n",
       "      <td>0.000000</td>\n",
       "      <td>0.031417</td>\n",
       "    </tr>\n",
       "    <tr>\n",
       "      <th>4</th>\n",
       "      <td>0.000000</td>\n",
       "      <td>0.083211</td>\n",
       "      <td>0.000000</td>\n",
       "      <td>0.970799</td>\n",
       "      <td>0.000000</td>\n",
       "      <td>0.0</td>\n",
       "      <td>0.223284</td>\n",
       "      <td>0.000000</td>\n",
       "      <td>0.027737</td>\n",
       "    </tr>\n",
       "  </tbody>\n",
       "</table>\n",
       "</div>"
      ],
      "text/plain": [
       "   Survived    Pclass       Sex       Age     SibSp  Parch      Fare  \\\n",
       "0  0.000000  0.127855  0.000000  0.937604  0.042618    0.0  0.308983   \n",
       "1  0.012371  0.012371  0.012371  0.470093  0.012371    0.0  0.881836   \n",
       "2  0.036495  0.109486  0.036495  0.948876  0.000000    0.0  0.289225   \n",
       "3  0.015708  0.015708  0.015708  0.549795  0.015708    0.0  0.834117   \n",
       "4  0.000000  0.083211  0.000000  0.970799  0.000000    0.0  0.223284   \n",
       "\n",
       "   Embarked    Family  \n",
       "0  0.000000  0.085237  \n",
       "1  0.012371  0.024742  \n",
       "2  0.000000  0.036495  \n",
       "3  0.000000  0.031417  \n",
       "4  0.000000  0.027737  "
      ]
     },
     "execution_count": 26,
     "metadata": {},
     "output_type": "execute_result"
    }
   ],
   "source": [
    "data_train.head()\n",
    "d = preprocessing.normalize(data_train)\n",
    "names = ['Survived','Pclass','Sex','Age','SibSp','Parch','Fare','Embarked','Family']\n",
    "scaled_df = pd.DataFrame(d, columns=names)\n",
    "scaled_df.head()"
   ]
  },
  {
   "cell_type": "code",
   "execution_count": 27,
   "metadata": {},
   "outputs": [
    {
     "data": {
      "text/plain": [
       "Survived    1.000000\n",
       "Pclass     -0.338481\n",
       "Sex         0.543351\n",
       "Age        -0.064910\n",
       "SibSp      -0.035322\n",
       "Parch       0.081629\n",
       "Fare        0.257307\n",
       "Embarked    0.106811\n",
       "Family      0.016639\n",
       "Name: Survived, dtype: float64"
      ]
     },
     "execution_count": 27,
     "metadata": {},
     "output_type": "execute_result"
    }
   ],
   "source": [
    "corr = data_train.corr()\n",
    "corr['Survived']"
   ]
  },
  {
   "cell_type": "code",
   "execution_count": 28,
   "metadata": {},
   "outputs": [],
   "source": [
    "X_data= np.array(data_train[['Sex','Fare','Pclass','Embarked','Age']])\n",
    "Y_data = np.array(data_train[['Survived']])\n",
    "Y_data = Y_data.reshape(-1, 1)"
   ]
  },
  {
   "cell_type": "code",
   "execution_count": 29,
   "metadata": {},
   "outputs": [],
   "source": [
    "# model\n",
    "model = tf.keras.models.Sequential([\n",
    "    Dense(5, activation='relu'),\n",
    "    Dense(64, activation='relu'),\n",
    "    Dense(128, activation= 'relu'),\n",
    "    Dense(128, activation= 'relu'),\n",
    "    Dense(32, activation= 'relu'),\n",
    "    Dense(2, activation= 'softmax')\n",
    "])"
   ]
  },
  {
   "cell_type": "code",
   "execution_count": 30,
   "metadata": {},
   "outputs": [],
   "source": [
    "model.compile(optimizer= tf.keras.optimizers.Adam(learning_rate = 0.01),\n",
    "loss = tf.losses.sparse_categorical_crossentropy,\n",
    "metrics=['accuracy']\n",
    "\n",
    ")"
   ]
  },
  {
   "cell_type": "code",
   "execution_count": 31,
   "metadata": {},
   "outputs": [
    {
     "name": "stdout",
     "output_type": "stream",
     "text": [
      "Epoch 1/200\n",
      "28/28 [==============================] - 1s 5ms/step - loss: 0.8095 - accuracy: 0.6397\n",
      "Epoch 2/200\n",
      "28/28 [==============================] - 0s 5ms/step - loss: 0.6168 - accuracy: 0.6689\n",
      "Epoch 3/200\n",
      "28/28 [==============================] - 0s 5ms/step - loss: 0.6086 - accuracy: 0.6790\n",
      "Epoch 4/200\n",
      "28/28 [==============================] - 0s 4ms/step - loss: 0.6148 - accuracy: 0.6723\n",
      "Epoch 5/200\n",
      "28/28 [==============================] - 0s 4ms/step - loss: 0.6097 - accuracy: 0.6756\n",
      "Epoch 6/200\n",
      "28/28 [==============================] - 0s 6ms/step - loss: 0.6064 - accuracy: 0.6734\n",
      "Epoch 7/200\n",
      "28/28 [==============================] - 0s 6ms/step - loss: 0.5860 - accuracy: 0.6521\n",
      "Epoch 8/200\n",
      "28/28 [==============================] - 0s 4ms/step - loss: 0.5677 - accuracy: 0.6857\n",
      "Epoch 9/200\n",
      "28/28 [==============================] - 0s 6ms/step - loss: 0.5757 - accuracy: 0.6779\n",
      "Epoch 10/200\n",
      "28/28 [==============================] - 0s 4ms/step - loss: 0.5577 - accuracy: 0.6891\n",
      "Epoch 11/200\n",
      "28/28 [==============================] - 0s 5ms/step - loss: 0.5229 - accuracy: 0.7262\n",
      "Epoch 12/200\n",
      "28/28 [==============================] - 0s 4ms/step - loss: 0.5214 - accuracy: 0.7497\n",
      "Epoch 13/200\n",
      "28/28 [==============================] - 0s 4ms/step - loss: 0.5289 - accuracy: 0.7396\n",
      "Epoch 14/200\n",
      "28/28 [==============================] - 0s 6ms/step - loss: 0.4960 - accuracy: 0.7553\n",
      "Epoch 15/200\n",
      "28/28 [==============================] - 0s 5ms/step - loss: 0.4843 - accuracy: 0.7654\n",
      "Epoch 16/200\n",
      "28/28 [==============================] - 0s 5ms/step - loss: 0.4837 - accuracy: 0.7957\n",
      "Epoch 17/200\n",
      "28/28 [==============================] - 0s 7ms/step - loss: 0.4920 - accuracy: 0.7722\n",
      "Epoch 18/200\n",
      "28/28 [==============================] - 0s 5ms/step - loss: 0.4922 - accuracy: 0.7677\n",
      "Epoch 19/200\n",
      "28/28 [==============================] - 0s 5ms/step - loss: 0.4720 - accuracy: 0.7800\n",
      "Epoch 20/200\n",
      "28/28 [==============================] - 0s 5ms/step - loss: 0.4718 - accuracy: 0.7845\n",
      "Epoch 21/200\n",
      "28/28 [==============================] - 0s 5ms/step - loss: 0.4874 - accuracy: 0.7868\n",
      "Epoch 22/200\n",
      "28/28 [==============================] - 0s 4ms/step - loss: 0.4881 - accuracy: 0.7699\n",
      "Epoch 23/200\n",
      "28/28 [==============================] - 0s 5ms/step - loss: 0.4614 - accuracy: 0.7856\n",
      "Epoch 24/200\n",
      "28/28 [==============================] - 0s 4ms/step - loss: 0.4500 - accuracy: 0.7890\n",
      "Epoch 25/200\n",
      "28/28 [==============================] - 0s 5ms/step - loss: 0.4438 - accuracy: 0.8002\n",
      "Epoch 26/200\n",
      "28/28 [==============================] - 0s 4ms/step - loss: 0.4394 - accuracy: 0.8103\n",
      "Epoch 27/200\n",
      "28/28 [==============================] - 0s 4ms/step - loss: 0.4573 - accuracy: 0.8013\n",
      "Epoch 28/200\n",
      "28/28 [==============================] - 0s 5ms/step - loss: 0.4454 - accuracy: 0.8013\n",
      "Epoch 29/200\n",
      "28/28 [==============================] - 0s 5ms/step - loss: 0.4687 - accuracy: 0.8036\n",
      "Epoch 30/200\n",
      "28/28 [==============================] - 0s 5ms/step - loss: 0.4664 - accuracy: 0.7924\n",
      "Epoch 31/200\n",
      "28/28 [==============================] - 0s 4ms/step - loss: 0.4791 - accuracy: 0.7969\n",
      "Epoch 32/200\n",
      "28/28 [==============================] - 0s 4ms/step - loss: 0.4549 - accuracy: 0.7991\n",
      "Epoch 33/200\n",
      "28/28 [==============================] - 0s 5ms/step - loss: 0.4662 - accuracy: 0.7834\n",
      "Epoch 34/200\n",
      "28/28 [==============================] - 0s 5ms/step - loss: 0.4406 - accuracy: 0.8070\n",
      "Epoch 35/200\n",
      "28/28 [==============================] - 0s 5ms/step - loss: 0.4645 - accuracy: 0.7879\n",
      "Epoch 36/200\n",
      "28/28 [==============================] - 0s 6ms/step - loss: 0.4791 - accuracy: 0.7856\n",
      "Epoch 37/200\n",
      "28/28 [==============================] - 0s 5ms/step - loss: 0.4456 - accuracy: 0.8002\n",
      "Epoch 38/200\n",
      "28/28 [==============================] - 0s 5ms/step - loss: 0.4396 - accuracy: 0.8137\n",
      "Epoch 39/200\n",
      "28/28 [==============================] - 0s 4ms/step - loss: 0.4622 - accuracy: 0.8036\n",
      "Epoch 40/200\n",
      "28/28 [==============================] - 0s 4ms/step - loss: 0.5386 - accuracy: 0.7778\n",
      "Epoch 41/200\n",
      "28/28 [==============================] - 0s 4ms/step - loss: 0.4785 - accuracy: 0.7868\n",
      "Epoch 42/200\n",
      "28/28 [==============================] - 0s 4ms/step - loss: 0.4767 - accuracy: 0.8047\n",
      "Epoch 43/200\n",
      "28/28 [==============================] - 0s 4ms/step - loss: 0.4691 - accuracy: 0.7969\n",
      "Epoch 44/200\n",
      "28/28 [==============================] - 0s 6ms/step - loss: 0.4757 - accuracy: 0.7980\n",
      "Epoch 45/200\n",
      "28/28 [==============================] - 0s 5ms/step - loss: 0.4621 - accuracy: 0.8036\n",
      "Epoch 46/200\n",
      "28/28 [==============================] - 0s 5ms/step - loss: 0.4540 - accuracy: 0.7980\n",
      "Epoch 47/200\n",
      "28/28 [==============================] - 0s 7ms/step - loss: 0.5384 - accuracy: 0.7520\n",
      "Epoch 48/200\n",
      "28/28 [==============================] - 0s 7ms/step - loss: 0.4714 - accuracy: 0.8047\n",
      "Epoch 49/200\n",
      "28/28 [==============================] - 0s 5ms/step - loss: 0.4598 - accuracy: 0.8036\n",
      "Epoch 50/200\n",
      "28/28 [==============================] - 0s 4ms/step - loss: 0.4616 - accuracy: 0.7957\n",
      "Epoch 51/200\n",
      "28/28 [==============================] - 0s 5ms/step - loss: 0.4632 - accuracy: 0.7890\n",
      "Epoch 52/200\n",
      "28/28 [==============================] - 0s 4ms/step - loss: 0.4618 - accuracy: 0.8025\n",
      "Epoch 53/200\n",
      "28/28 [==============================] - 0s 4ms/step - loss: 0.4567 - accuracy: 0.7980\n",
      "Epoch 54/200\n",
      "28/28 [==============================] - 0s 4ms/step - loss: 0.4596 - accuracy: 0.7991\n",
      "Epoch 55/200\n",
      "28/28 [==============================] - 0s 4ms/step - loss: 0.4524 - accuracy: 0.8159\n",
      "Epoch 56/200\n",
      "28/28 [==============================] - 0s 4ms/step - loss: 0.4501 - accuracy: 0.8114\n",
      "Epoch 57/200\n",
      "28/28 [==============================] - 0s 4ms/step - loss: 0.4576 - accuracy: 0.8070\n",
      "Epoch 58/200\n",
      "28/28 [==============================] - 0s 4ms/step - loss: 0.4660 - accuracy: 0.7912\n",
      "Epoch 59/200\n",
      "28/28 [==============================] - 0s 4ms/step - loss: 0.4543 - accuracy: 0.8092\n",
      "Epoch 60/200\n",
      "28/28 [==============================] - 0s 4ms/step - loss: 0.4455 - accuracy: 0.8148\n",
      "Epoch 61/200\n",
      "28/28 [==============================] - 0s 4ms/step - loss: 0.4438 - accuracy: 0.8148\n",
      "Epoch 62/200\n",
      "28/28 [==============================] - 0s 4ms/step - loss: 0.4630 - accuracy: 0.7957\n",
      "Epoch 63/200\n",
      "28/28 [==============================] - 0s 4ms/step - loss: 0.4735 - accuracy: 0.7722\n",
      "Epoch 64/200\n",
      "28/28 [==============================] - 0s 4ms/step - loss: 0.4635 - accuracy: 0.8058\n",
      "Epoch 65/200\n",
      "28/28 [==============================] - 0s 4ms/step - loss: 0.4412 - accuracy: 0.8013\n",
      "Epoch 66/200\n",
      "28/28 [==============================] - 0s 3ms/step - loss: 0.4344 - accuracy: 0.8182\n",
      "Epoch 67/200\n",
      "28/28 [==============================] - 0s 4ms/step - loss: 0.4274 - accuracy: 0.8148\n",
      "Epoch 68/200\n",
      "28/28 [==============================] - 0s 4ms/step - loss: 0.4354 - accuracy: 0.8159\n",
      "Epoch 69/200\n",
      "28/28 [==============================] - 0s 4ms/step - loss: 0.4336 - accuracy: 0.8148\n",
      "Epoch 70/200\n",
      "28/28 [==============================] - 0s 4ms/step - loss: 0.4315 - accuracy: 0.8171\n",
      "Epoch 71/200\n",
      "28/28 [==============================] - 0s 3ms/step - loss: 0.4339 - accuracy: 0.8171\n",
      "Epoch 72/200\n",
      "28/28 [==============================] - 0s 4ms/step - loss: 0.4357 - accuracy: 0.8137\n",
      "Epoch 73/200\n",
      "28/28 [==============================] - 0s 3ms/step - loss: 0.4341 - accuracy: 0.8103\n",
      "Epoch 74/200\n",
      "28/28 [==============================] - 0s 4ms/step - loss: 0.4366 - accuracy: 0.8058\n",
      "Epoch 75/200\n",
      "28/28 [==============================] - 0s 4ms/step - loss: 0.4468 - accuracy: 0.8193\n",
      "Epoch 76/200\n",
      "28/28 [==============================] - 0s 4ms/step - loss: 0.4319 - accuracy: 0.8171\n",
      "Epoch 77/200\n",
      "28/28 [==============================] - 0s 4ms/step - loss: 0.4397 - accuracy: 0.8047\n",
      "Epoch 78/200\n",
      "28/28 [==============================] - 0s 4ms/step - loss: 0.4491 - accuracy: 0.8047\n",
      "Epoch 79/200\n",
      "28/28 [==============================] - 0s 3ms/step - loss: 0.4338 - accuracy: 0.8193\n",
      "Epoch 80/200\n",
      "28/28 [==============================] - 0s 4ms/step - loss: 0.4252 - accuracy: 0.8159\n",
      "Epoch 81/200\n",
      "28/28 [==============================] - 0s 3ms/step - loss: 0.4290 - accuracy: 0.8171\n",
      "Epoch 82/200\n",
      "28/28 [==============================] - 0s 4ms/step - loss: 0.4446 - accuracy: 0.8013\n",
      "Epoch 83/200\n",
      "28/28 [==============================] - 0s 4ms/step - loss: 0.4232 - accuracy: 0.8249\n",
      "Epoch 84/200\n",
      "28/28 [==============================] - 0s 4ms/step - loss: 0.4226 - accuracy: 0.8238\n",
      "Epoch 85/200\n",
      "28/28 [==============================] - 0s 4ms/step - loss: 0.4327 - accuracy: 0.8148\n",
      "Epoch 86/200\n",
      "28/28 [==============================] - 0s 4ms/step - loss: 0.4246 - accuracy: 0.8193\n",
      "Epoch 87/200\n",
      "28/28 [==============================] - 0s 4ms/step - loss: 0.4409 - accuracy: 0.8148\n",
      "Epoch 88/200\n",
      "28/28 [==============================] - 0s 4ms/step - loss: 0.4270 - accuracy: 0.8227\n",
      "Epoch 89/200\n",
      "28/28 [==============================] - 0s 4ms/step - loss: 0.4450 - accuracy: 0.8148\n",
      "Epoch 90/200\n",
      "28/28 [==============================] - 0s 3ms/step - loss: 0.4385 - accuracy: 0.8171\n",
      "Epoch 91/200\n",
      "28/28 [==============================] - 0s 4ms/step - loss: 0.4530 - accuracy: 0.7969\n",
      "Epoch 92/200\n",
      "28/28 [==============================] - 0s 4ms/step - loss: 0.4299 - accuracy: 0.8215\n",
      "Epoch 93/200\n",
      "28/28 [==============================] - 0s 4ms/step - loss: 0.4433 - accuracy: 0.8092\n",
      "Epoch 94/200\n",
      "28/28 [==============================] - 0s 5ms/step - loss: 0.4662 - accuracy: 0.7856\n",
      "Epoch 95/200\n",
      "28/28 [==============================] - 0s 4ms/step - loss: 0.4677 - accuracy: 0.7946\n",
      "Epoch 96/200\n",
      "28/28 [==============================] - 0s 4ms/step - loss: 0.5060 - accuracy: 0.7508\n",
      "Epoch 97/200\n",
      "28/28 [==============================] - 0s 4ms/step - loss: 0.4635 - accuracy: 0.7789\n",
      "Epoch 98/200\n",
      "28/28 [==============================] - 0s 8ms/step - loss: 0.4508 - accuracy: 0.7924\n",
      "Epoch 99/200\n",
      "28/28 [==============================] - 0s 4ms/step - loss: 0.4893 - accuracy: 0.7666\n",
      "Epoch 100/200\n",
      "28/28 [==============================] - 0s 5ms/step - loss: 0.4517 - accuracy: 0.8092\n",
      "Epoch 101/200\n",
      "28/28 [==============================] - 0s 4ms/step - loss: 0.4536 - accuracy: 0.8013\n",
      "Epoch 102/200\n",
      "28/28 [==============================] - 0s 4ms/step - loss: 0.4504 - accuracy: 0.8036\n",
      "Epoch 103/200\n",
      "28/28 [==============================] - 0s 4ms/step - loss: 0.4840 - accuracy: 0.7823\n",
      "Epoch 104/200\n",
      "28/28 [==============================] - 0s 3ms/step - loss: 0.4562 - accuracy: 0.8070\n",
      "Epoch 105/200\n",
      "28/28 [==============================] - 0s 4ms/step - loss: 0.4602 - accuracy: 0.7946\n",
      "Epoch 106/200\n",
      "28/28 [==============================] - 0s 5ms/step - loss: 0.4428 - accuracy: 0.8103\n",
      "Epoch 107/200\n",
      "28/28 [==============================] - 0s 5ms/step - loss: 0.4506 - accuracy: 0.8137\n",
      "Epoch 108/200\n",
      "28/28 [==============================] - 0s 5ms/step - loss: 0.4762 - accuracy: 0.7969\n",
      "Epoch 109/200\n",
      "28/28 [==============================] - 0s 4ms/step - loss: 0.4722 - accuracy: 0.8081\n",
      "Epoch 110/200\n",
      "28/28 [==============================] - 0s 4ms/step - loss: 0.4534 - accuracy: 0.7834\n",
      "Epoch 111/200\n",
      "28/28 [==============================] - 0s 4ms/step - loss: 0.4614 - accuracy: 0.7868\n",
      "Epoch 112/200\n",
      "28/28 [==============================] - 0s 4ms/step - loss: 0.4649 - accuracy: 0.7969\n",
      "Epoch 113/200\n",
      "28/28 [==============================] - 0s 4ms/step - loss: 0.4446 - accuracy: 0.8092\n",
      "Epoch 114/200\n",
      "28/28 [==============================] - 0s 5ms/step - loss: 0.4326 - accuracy: 0.8047\n",
      "Epoch 115/200\n",
      "28/28 [==============================] - 0s 6ms/step - loss: 0.4583 - accuracy: 0.8081\n",
      "Epoch 116/200\n",
      "28/28 [==============================] - 0s 5ms/step - loss: 0.4519 - accuracy: 0.8204\n",
      "Epoch 117/200\n",
      "28/28 [==============================] - 0s 5ms/step - loss: 0.4477 - accuracy: 0.8182\n",
      "Epoch 118/200\n",
      "28/28 [==============================] - 0s 4ms/step - loss: 0.4551 - accuracy: 0.8114\n",
      "Epoch 119/200\n",
      "28/28 [==============================] - 0s 4ms/step - loss: 0.4406 - accuracy: 0.8137\n",
      "Epoch 120/200\n",
      "28/28 [==============================] - 0s 4ms/step - loss: 0.4456 - accuracy: 0.8193\n",
      "Epoch 121/200\n",
      "28/28 [==============================] - 0s 5ms/step - loss: 0.4407 - accuracy: 0.8081\n",
      "Epoch 122/200\n",
      "28/28 [==============================] - 0s 5ms/step - loss: 0.4313 - accuracy: 0.8148\n",
      "Epoch 123/200\n",
      "28/28 [==============================] - 0s 7ms/step - loss: 0.4322 - accuracy: 0.8249\n",
      "Epoch 124/200\n",
      "28/28 [==============================] - 0s 6ms/step - loss: 0.4277 - accuracy: 0.8114\n",
      "Epoch 125/200\n",
      "28/28 [==============================] - 0s 5ms/step - loss: 0.4289 - accuracy: 0.8238\n",
      "Epoch 126/200\n",
      "28/28 [==============================] - 0s 4ms/step - loss: 0.4231 - accuracy: 0.8193\n",
      "Epoch 127/200\n",
      "28/28 [==============================] - 0s 4ms/step - loss: 0.4370 - accuracy: 0.8148\n",
      "Epoch 128/200\n",
      "28/28 [==============================] - 0s 4ms/step - loss: 0.4446 - accuracy: 0.8171\n",
      "Epoch 129/200\n",
      "28/28 [==============================] - 0s 4ms/step - loss: 0.4324 - accuracy: 0.8126\n",
      "Epoch 130/200\n",
      "28/28 [==============================] - 0s 4ms/step - loss: 0.4321 - accuracy: 0.8114\n",
      "Epoch 131/200\n",
      "28/28 [==============================] - 0s 4ms/step - loss: 0.4282 - accuracy: 0.8260\n",
      "Epoch 132/200\n",
      "28/28 [==============================] - 0s 4ms/step - loss: 0.4229 - accuracy: 0.8260\n",
      "Epoch 133/200\n",
      "28/28 [==============================] - 0s 4ms/step - loss: 0.4251 - accuracy: 0.8193\n",
      "Epoch 134/200\n",
      "28/28 [==============================] - 0s 4ms/step - loss: 0.4263 - accuracy: 0.8193\n",
      "Epoch 135/200\n",
      "28/28 [==============================] - 0s 3ms/step - loss: 0.4143 - accuracy: 0.8215\n",
      "Epoch 136/200\n",
      "28/28 [==============================] - 0s 3ms/step - loss: 0.4257 - accuracy: 0.8305\n",
      "Epoch 137/200\n",
      "28/28 [==============================] - 0s 4ms/step - loss: 0.4215 - accuracy: 0.8182\n",
      "Epoch 138/200\n",
      "28/28 [==============================] - 0s 4ms/step - loss: 0.4395 - accuracy: 0.8058\n",
      "Epoch 139/200\n",
      "28/28 [==============================] - 0s 4ms/step - loss: 0.4339 - accuracy: 0.8114\n",
      "Epoch 140/200\n",
      "28/28 [==============================] - 0s 4ms/step - loss: 0.4212 - accuracy: 0.8137\n",
      "Epoch 141/200\n",
      "28/28 [==============================] - 0s 4ms/step - loss: 0.4308 - accuracy: 0.8126\n",
      "Epoch 142/200\n",
      "28/28 [==============================] - 0s 4ms/step - loss: 0.4492 - accuracy: 0.8058\n",
      "Epoch 143/200\n",
      "28/28 [==============================] - 0s 4ms/step - loss: 0.4788 - accuracy: 0.8103\n",
      "Epoch 144/200\n",
      "28/28 [==============================] - 0s 6ms/step - loss: 0.4372 - accuracy: 0.7935\n",
      "Epoch 145/200\n",
      "28/28 [==============================] - 0s 4ms/step - loss: 0.4279 - accuracy: 0.8070\n",
      "Epoch 146/200\n",
      "28/28 [==============================] - 0s 4ms/step - loss: 0.4317 - accuracy: 0.8137\n",
      "Epoch 147/200\n",
      "28/28 [==============================] - 0s 4ms/step - loss: 0.4353 - accuracy: 0.8081\n",
      "Epoch 148/200\n",
      "28/28 [==============================] - 0s 4ms/step - loss: 0.4259 - accuracy: 0.8171\n",
      "Epoch 149/200\n",
      "28/28 [==============================] - 0s 4ms/step - loss: 0.4279 - accuracy: 0.8126\n",
      "Epoch 150/200\n",
      "28/28 [==============================] - 0s 4ms/step - loss: 0.4229 - accuracy: 0.8193\n",
      "Epoch 151/200\n",
      "28/28 [==============================] - 0s 5ms/step - loss: 0.4233 - accuracy: 0.8137\n",
      "Epoch 152/200\n",
      "28/28 [==============================] - 0s 6ms/step - loss: 0.4369 - accuracy: 0.8193\n",
      "Epoch 153/200\n",
      "28/28 [==============================] - 0s 5ms/step - loss: 0.4254 - accuracy: 0.8215\n",
      "Epoch 154/200\n",
      "28/28 [==============================] - 0s 7ms/step - loss: 0.4266 - accuracy: 0.8215\n",
      "Epoch 155/200\n",
      "28/28 [==============================] - 0s 4ms/step - loss: 0.4345 - accuracy: 0.8260\n",
      "Epoch 156/200\n",
      "28/28 [==============================] - 0s 5ms/step - loss: 0.4371 - accuracy: 0.8103\n",
      "Epoch 157/200\n",
      "28/28 [==============================] - 0s 6ms/step - loss: 0.4189 - accuracy: 0.8215\n",
      "Epoch 158/200\n",
      "28/28 [==============================] - 0s 4ms/step - loss: 0.4268 - accuracy: 0.8193\n",
      "Epoch 159/200\n",
      "28/28 [==============================] - 0s 4ms/step - loss: 0.4187 - accuracy: 0.8272\n",
      "Epoch 160/200\n",
      "28/28 [==============================] - 0s 4ms/step - loss: 0.4211 - accuracy: 0.8227\n",
      "Epoch 161/200\n",
      "28/28 [==============================] - 0s 4ms/step - loss: 0.4157 - accuracy: 0.8204\n",
      "Epoch 162/200\n",
      "28/28 [==============================] - 0s 4ms/step - loss: 0.4211 - accuracy: 0.8159\n",
      "Epoch 163/200\n",
      "28/28 [==============================] - 0s 4ms/step - loss: 0.4445 - accuracy: 0.8137\n",
      "Epoch 164/200\n",
      "28/28 [==============================] - 0s 4ms/step - loss: 0.4454 - accuracy: 0.8137\n",
      "Epoch 165/200\n",
      "28/28 [==============================] - 0s 4ms/step - loss: 0.4727 - accuracy: 0.7935\n",
      "Epoch 166/200\n",
      "28/28 [==============================] - 0s 4ms/step - loss: 0.4183 - accuracy: 0.8215\n",
      "Epoch 167/200\n",
      "28/28 [==============================] - 0s 5ms/step - loss: 0.4288 - accuracy: 0.8126\n",
      "Epoch 168/200\n",
      "28/28 [==============================] - 0s 4ms/step - loss: 0.4306 - accuracy: 0.8103\n",
      "Epoch 169/200\n",
      "28/28 [==============================] - 0s 7ms/step - loss: 0.4154 - accuracy: 0.8182\n",
      "Epoch 170/200\n",
      "28/28 [==============================] - 0s 5ms/step - loss: 0.4476 - accuracy: 0.8081\n",
      "Epoch 171/200\n",
      "28/28 [==============================] - 0s 6ms/step - loss: 0.4557 - accuracy: 0.7957\n",
      "Epoch 172/200\n",
      "28/28 [==============================] - 0s 4ms/step - loss: 0.4344 - accuracy: 0.8025\n",
      "Epoch 173/200\n",
      "28/28 [==============================] - 0s 8ms/step - loss: 0.4258 - accuracy: 0.8126\n",
      "Epoch 174/200\n",
      "28/28 [==============================] - 0s 6ms/step - loss: 0.4281 - accuracy: 0.8114\n",
      "Epoch 175/200\n",
      "28/28 [==============================] - 0s 4ms/step - loss: 0.4321 - accuracy: 0.8081\n",
      "Epoch 176/200\n",
      "28/28 [==============================] - 0s 4ms/step - loss: 0.4293 - accuracy: 0.8204\n",
      "Epoch 177/200\n",
      "28/28 [==============================] - 0s 4ms/step - loss: 0.4445 - accuracy: 0.8092\n",
      "Epoch 178/200\n",
      "28/28 [==============================] - 0s 4ms/step - loss: 0.4372 - accuracy: 0.8249\n",
      "Epoch 179/200\n",
      "28/28 [==============================] - 0s 4ms/step - loss: 0.4203 - accuracy: 0.8215\n",
      "Epoch 180/200\n",
      "28/28 [==============================] - 0s 4ms/step - loss: 0.4391 - accuracy: 0.8070\n",
      "Epoch 181/200\n",
      "28/28 [==============================] - 0s 6ms/step - loss: 0.4316 - accuracy: 0.8103\n",
      "Epoch 182/200\n",
      "28/28 [==============================] - 0s 5ms/step - loss: 0.4170 - accuracy: 0.8238\n",
      "Epoch 183/200\n",
      "28/28 [==============================] - 0s 5ms/step - loss: 0.4474 - accuracy: 0.7924\n",
      "Epoch 184/200\n",
      "28/28 [==============================] - 0s 4ms/step - loss: 0.4391 - accuracy: 0.8092\n",
      "Epoch 185/200\n",
      "28/28 [==============================] - 0s 4ms/step - loss: 0.4256 - accuracy: 0.8215\n",
      "Epoch 186/200\n",
      "28/28 [==============================] - 0s 4ms/step - loss: 0.4275 - accuracy: 0.8305\n",
      "Epoch 187/200\n",
      "28/28 [==============================] - 0s 4ms/step - loss: 0.4171 - accuracy: 0.8272\n",
      "Epoch 188/200\n",
      "28/28 [==============================] - 0s 4ms/step - loss: 0.4253 - accuracy: 0.8159\n",
      "Epoch 189/200\n",
      "28/28 [==============================] - 0s 4ms/step - loss: 0.4341 - accuracy: 0.8249\n",
      "Epoch 190/200\n",
      "28/28 [==============================] - 0s 6ms/step - loss: 0.4240 - accuracy: 0.8193\n",
      "Epoch 191/200\n",
      "28/28 [==============================] - 0s 7ms/step - loss: 0.4126 - accuracy: 0.8283\n",
      "Epoch 192/200\n",
      "28/28 [==============================] - 0s 5ms/step - loss: 0.4421 - accuracy: 0.8047\n",
      "Epoch 193/200\n",
      "28/28 [==============================] - 0s 5ms/step - loss: 0.4570 - accuracy: 0.7935\n",
      "Epoch 194/200\n",
      "28/28 [==============================] - 0s 4ms/step - loss: 0.4374 - accuracy: 0.8103\n",
      "Epoch 195/200\n",
      "28/28 [==============================] - 0s 4ms/step - loss: 0.4589 - accuracy: 0.8047\n",
      "Epoch 196/200\n",
      "28/28 [==============================] - 0s 4ms/step - loss: 0.4311 - accuracy: 0.8137\n",
      "Epoch 197/200\n",
      "28/28 [==============================] - 0s 4ms/step - loss: 0.4428 - accuracy: 0.8036\n",
      "Epoch 198/200\n",
      "28/28 [==============================] - 0s 4ms/step - loss: 0.4383 - accuracy: 0.8137\n",
      "Epoch 199/200\n",
      "28/28 [==============================] - 0s 5ms/step - loss: 0.4493 - accuracy: 0.8047\n",
      "Epoch 200/200\n",
      "28/28 [==============================] - 0s 4ms/step - loss: 0.4508 - accuracy: 0.8002\n"
     ]
    },
    {
     "data": {
      "text/plain": [
       "0.7986980935931206"
      ]
     },
     "execution_count": 31,
     "metadata": {},
     "output_type": "execute_result"
    }
   ],
   "source": [
    "# train\n",
    "train_output = model.fit(X_data, Y_data, epochs= 200)\n",
    "model.save('model/titanic.h5')\n",
    "np.mean(train_output.history['accuracy'])\n"
   ]
  },
  {
   "cell_type": "code",
   "execution_count": 32,
   "metadata": {},
   "outputs": [
    {
     "data": {
      "text/plain": [
       "0.8305274844169617"
      ]
     },
     "execution_count": 32,
     "metadata": {},
     "output_type": "execute_result"
    }
   ],
   "source": [
    "np.max(train_output.history['accuracy'])"
   ]
  },
  {
   "cell_type": "code",
   "execution_count": 33,
   "metadata": {},
   "outputs": [
    {
     "data": {
      "image/png": "[encoded data removed]",
      "text/plain": [
       "<Figure size 2160x720 with 1 Axes>"
      ]
     },
     "metadata": {
      "needs_background": "light"
     },
     "output_type": "display_data"
    },
    {
     "data": {
      "image/png": "[encoded data removed]",
      "text/plain": [
       "<Figure size 2160x720 with 1 Axes>"
      ]
     },
     "metadata": {
      "needs_background": "light"
     },
     "output_type": "display_data"
    }
   ],
   "source": [
    "plt.figure(figsize=(30,10) )\n",
    "plt.plot(train_output.history['loss'])\n",
    "plt.show()\n",
    "plt.figure(figsize=(30,10) )\n",
    "plt.plot(train_output.history['accuracy'])\n",
    "plt.show()"
   ]
  },
  {
   "cell_type": "code",
   "execution_count": 34,
   "metadata": {},
   "outputs": [
    {
     "data": {
      "text/plain": [
       "0.7986980935931206"
      ]
     },
     "execution_count": 34,
     "metadata": {},
     "output_type": "execute_result"
    }
   ],
   "source": [
    "np.mean(train_output.history['accuracy'])"
   ]
  },
  {
   "cell_type": "code",
   "execution_count": 35,
   "metadata": {},
   "outputs": [
    {
     "name": "stdout",
     "output_type": "stream",
     "text": [
      "14/14 [==============================] - 0s 2ms/step - loss: 0.2487 - accuracy: 0.9617\n"
     ]
    },
    {
     "data": {
      "text/plain": [
       "[0.24870112538337708, 0.9617224931716919]"
      ]
     },
     "execution_count": 35,
     "metadata": {},
     "output_type": "execute_result"
    }
   ],
   "source": [
    "# data_test\n",
    "X_test= np.array(data_test[['Sex','Fare','Pclass','Embarked','Age']])\n",
    "Y_test = np.array(data_test[['Survived']])\n",
    "Y_test = Y_test.reshape(-1, 1)\n",
    "model.evaluate(X_test, Y_test)"
   ]
  },
  {
   "cell_type": "code",
   "execution_count": 36,
   "metadata": {},
   "outputs": [
    {
     "data": {
      "text/plain": [
       "1"
      ]
     },
     "execution_count": 36,
     "metadata": {},
     "output_type": "execute_result"
    }
   ],
   "source": [
    "person = np.array([[0.0, 0.22, 0.08, 0, 0.97]])\n",
    "\n",
    "result = model.predict(person)\n",
    "np.argmax(result)"
   ]
  },
  {
   "cell_type": "code",
   "execution_count": 37,
   "metadata": {},
   "outputs": [
    {
     "name": "stdout",
     "output_type": "stream",
     "text": [
      "0.6698564593301436\n"
     ]
    },
    {
     "name": "stderr",
     "output_type": "stream",
     "text": [
      "C:\\Users\\SONY\\AppData\\Local\\Programs\\Python\\Python38\\lib\\site-packages\\sklearn\\neighbors\\_classification.py:198: DataConversionWarning: A column-vector y was passed when a 1d array was expected. Please change the shape of y to (n_samples,), for example using ravel().\n",
      "  return self._fit(X, y)\n"
     ]
    }
   ],
   "source": [
    "from sklearn.neighbors import KNeighborsClassifier\n",
    "\n",
    "neigh = KNeighborsClassifier(n_neighbors= 2)\n",
    "neigh.fit(X_data, Y_data)\n",
    "cv_predict = neigh.predict(X_test)\n",
    "\n",
    "from sklearn.metrics import accuracy_score\n",
    "acc = accuracy_score(Y_test, cv_predict)\n",
    "print(acc)"
   ]
  },
  {
   "cell_type": "code",
   "execution_count": 38,
   "metadata": {},
   "outputs": [
    {
     "name": "stdout",
     "output_type": "stream",
     "text": [
      "score on train data:  0.7440191387559809\n"
     ]
    },
    {
     "name": "stderr",
     "output_type": "stream",
     "text": [
      "C:\\Users\\SONY\\AppData\\Local\\Programs\\Python\\Python38\\lib\\site-packages\\sklearn\\utils\\validation.py:993: DataConversionWarning: A column-vector y was passed when a 1d array was expected. Please change the shape of y to (n_samples, ), for example using ravel().\n",
      "  y = column_or_1d(y, warn=True)\n"
     ]
    }
   ],
   "source": [
    "p = Perceptron()\n",
    "p.fit(X_data, Y_data)\n",
    "\n",
    "Y_pred = p.predict(X_test)\n",
    "test_score = accuracy_score(Y_test, Y_pred)\n",
    "print(\"score on train data: \", test_score)\n",
    "   \n"
   ]
  }
 ],
 "metadata": {
  "interpreter": {
   "hash": "708e9726cfefdb058dac500d861d58f3238e7c30de202ec5233c4f8b6d763e57"
  },
  "kernelspec": {
   "display_name": "Python 3.8.5 64-bit",
   "language": "python",
   "name": "python3"
  },
  "language_info": {
   "codemirror_mode": {
    "name": "ipython",
    "version": 3
   },
   "file_extension": ".py",
   "mimetype": "text/x-python",
   "name": "python",
   "nbconvert_exporter": "python",
   "pygments_lexer": "ipython3",
   "version": "3.8.5"
  },
  "orig_nbformat": 4
 },
 "nbformat": 4,
 "nbformat_minor": 2
}
