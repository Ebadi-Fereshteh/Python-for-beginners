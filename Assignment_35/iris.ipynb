{
 "cells": [
  {
   "cell_type": "code",
   "execution_count": 1,
   "metadata": {},
   "outputs": [],
   "source": [
    "from sklearn.datasets import load_iris\n",
    "from sklearn.model_selection import train_test_split\n",
    "from sklearn.neighbors import KNeighborsClassifier\n",
    "import numpy as np\n",
    "import matplotlib.pyplot as plt"
   ]
  },
  {
   "cell_type": "code",
   "execution_count": 2,
   "metadata": {},
   "outputs": [
    {
     "name": "stdout",
     "output_type": "stream",
     "text": [
      "(150, 4)\n",
      "(150,)\n"
     ]
    }
   ],
   "source": [
    "data = load_iris()\n",
    "X_data = data.data\n",
    "print(X_data.shape)\n",
    "Y_data = data.target\n",
    "print(Y_data.shape)"
   ]
  },
  {
   "cell_type": "code",
   "execution_count": 3,
   "metadata": {},
   "outputs": [],
   "source": [
    "X_train, X_test, Y_train, Y_test = train_test_split(X_data, Y_data, random_state= 5)"
   ]
  },
  {
   "cell_type": "code",
   "execution_count": 4,
   "metadata": {},
   "outputs": [
    {
     "name": "stdout",
     "output_type": "stream",
     "text": [
      "0.9210526315789473\n",
      "0.9473684210526315\n",
      "0.9473684210526315\n",
      "0.9736842105263158\n",
      "0.9736842105263158\n",
      "0.9736842105263158\n",
      "0.9736842105263158\n",
      "[[0.9210526315789473, 1], [0.9473684210526315, 3], [0.9473684210526315, 5], [0.9736842105263158, 7], [0.9736842105263158, 9], [0.9736842105263158, 11], [0.9736842105263158, 13]]\n"
     ]
    }
   ],
   "source": [
    "from sklearn.neighbors import KNeighborsClassifier\n",
    "result_K= []\n",
    "for k in range(1, 15 ,2):\n",
    "    neigh = KNeighborsClassifier(k)\n",
    "    neigh.fit(X_train, Y_train)\n",
    "    cv_predict = neigh.predict(X_test)\n",
    "    result_cv = cv_predict - Y_test\n",
    "    # count zeros in 1d array\n",
    "    n_zeros = np.count_nonzero(result_cv== 0)\n",
    "    acc = n_zeros / len(Y_test)\n",
    "    print(acc)\n",
    "    result_K.append([acc, k])\n",
    "print(result_K)"
   ]
  },
  {
   "cell_type": "code",
   "execution_count": 5,
   "metadata": {},
   "outputs": [
    {
     "data": {
      "image/png": "[encoded data removed]",
      "text/plain": [
       "<Figure size 432x288 with 1 Axes>"
      ]
     },
     "metadata": {
      "needs_background": "light"
     },
     "output_type": "display_data"
    }
   ],
   "source": [
    "import pandas as pd\n",
    "df = pd.DataFrame(result_K, columns=['accuracy','k'])\n",
    "df.head()\n",
    "plt.plot(df['k'],df['accuracy'], marker = '*', ms= 10, mec= '#A52A2A', mfc= '#FF7F50', lw=2)\n",
    "plt.grid()\n",
    "plt.xticks(np.arange(1,14,2), np.arange(1,14,2))\n",
    "ymax = df['accuracy'].max()\n",
    "ymax\n",
    "ymaxStr = str(round(ymax,5))\n",
    "# ymaxStr = ('best k ',ymaxStr)\n",
    "xpos = df.loc[df['accuracy']== ymax]['k'].reset_index()\n",
    "xpos = xpos['k'][0]\n",
    "xmax = xpos\n",
    "# xpos\n",
    "plt.annotate(ymaxStr, xy=(xmax, ymax), xytext= (xmax, ymax), arrowprops=dict(facecolor='green'))\n",
    "plt.show()\n",
    "\n",
    "# show Max Revenue point\n",
    "\n"
   ]
  }
 ],
 "metadata": {
  "interpreter": {
   "hash": "708e9726cfefdb058dac500d861d58f3238e7c30de202ec5233c4f8b6d763e57"
  },
  "kernelspec": {
   "display_name": "Python 3.8.5 64-bit",
   "language": "python",
   "name": "python3"
  },
  "language_info": {
   "codemirror_mode": {
    "name": "ipython",
    "version": 3
   },
   "file_extension": ".py",
   "mimetype": "text/x-python",
   "name": "python",
   "nbconvert_exporter": "python",
   "pygments_lexer": "ipython3",
   "version": "3.8.5"
  },
  "orig_nbformat": 4
 },
 "nbformat": 4,
 "nbformat_minor": 2
}
