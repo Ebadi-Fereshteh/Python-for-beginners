{
 "cells": [
  {
   "cell_type": "code",
   "execution_count": 10,
   "metadata": {},
   "outputs": [],
   "source": [
    "# Create QR Code\n",
    "\n",
    "# pip install qrcode\n",
    "import qrcode\n",
    "\n",
    "qr_img = qrcode.make(\"https://github.com/Ebadi-Fereshteh\")\n",
    "\n",
    "qr_img.save('src\\img\\myGithub.png')"
   ]
  },
  {
   "cell_type": "code",
   "execution_count": 12,
   "metadata": {},
   "outputs": [
    {
     "name": "stdout",
     "output_type": "stream",
     "text": [
      "https://github.com/Ebadi-Fereshteh\n"
     ]
    },
    {
     "data": {
      "text/plain": [
       "True"
      ]
     },
     "execution_count": 12,
     "metadata": {},
     "output_type": "execute_result"
    }
   ],
   "source": [
    "# Read QR Code\n",
    "import cv2\n",
    "import webbrowser\n",
    "\n",
    "# read qr image \n",
    "img = cv2.imread('src\\img\\myGithub.png')\n",
    "\n",
    "# create an object of class QRCodeDetector, which we will use for detecting and decoding the QR Code.\n",
    "qr_detector = cv2.QRCodeDetector()\n",
    "\n",
    "# detect and decode\n",
    "val, pts, st_code = qr_detector.detectAndDecode(img)\n",
    "\n",
    "print(val)\n",
    "\n",
    "# open Detect URL web in Browser\n",
    "webbrowser.open_new_tab(val)\n",
    "\n"
   ]
  }
 ],
 "metadata": {
  "interpreter": {
   "hash": "708e9726cfefdb058dac500d861d58f3238e7c30de202ec5233c4f8b6d763e57"
  },
  "kernelspec": {
   "display_name": "Python 3.8.5 64-bit",
   "language": "python",
   "name": "python3"
  },
  "language_info": {
   "codemirror_mode": {
    "name": "ipython",
    "version": 3
   },
   "file_extension": ".py",
   "mimetype": "text/x-python",
   "name": "python",
   "nbconvert_exporter": "python",
   "pygments_lexer": "ipython3",
   "version": "3.8.5"
  },
  "orig_nbformat": 4
 },
 "nbformat": 4,
 "nbformat_minor": 2
}
