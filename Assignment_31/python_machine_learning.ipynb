{
 "cells": [
  {
   "cell_type": "code",
   "execution_count": 22,
   "metadata": {},
   "outputs": [
    {
     "name": "stdout",
     "output_type": "stream",
     "text": [
      "mean =  89.76923076923077\n",
      "median =  87.0\n",
      "mod =  ModeResult(mode=array([86]), count=array([3]))\n"
     ]
    }
   ],
   "source": [
    "import numpy as np\n",
    "from scipy import stats\n",
    "\n",
    "# In Machine Learning (and in mathematics) there are often three values that interests us:\n",
    "# Mean - The average value\n",
    "# Median - The mid point value\n",
    "# Mode - The most common value\n",
    "# Example: We have registered the speed of 13 cars:\n",
    "\n",
    "speed = [99,86,87,88,111,86,103,87,94,78,77,85,86]\n",
    "\n",
    "# Mean\n",
    "# The mean value is the average value.\n",
    "# To calculate the mean, find the sum of all values, and divide the sum by the number of values\n",
    "mean_val = np.mean(speed)\n",
    "\n",
    "# Median\n",
    "# The median value is the value in the middle, after you have sorted all the values\n",
    "median_val = np.median(speed)\n",
    "\n",
    "# Mode\n",
    "# The Mode value is the value that appears the most number of times\n",
    "\n",
    "mode_val = stats.mode(speed)\n",
    "\n",
    "print('mean = ',mean_val)\n",
    "print('median = ',median_val)\n",
    "print('mod = ',mode_val)"
   ]
  },
  {
   "cell_type": "code",
   "execution_count": 23,
   "metadata": {},
   "outputs": [
    {
     "data": {
      "image/png": "[encoded data removed]",
      "text/plain": [
       "<Figure size 432x288 with 1 Axes>"
      ]
     },
     "metadata": {
      "needs_background": "light"
     },
     "output_type": "display_data"
    }
   ],
   "source": [
    "plt.scatter(test_x, test_y)\n",
    "plt.show()\n",
    "\n"
   ]
  },
  {
   "cell_type": "code",
   "execution_count": 24,
   "metadata": {},
   "outputs": [
    {
     "data": {
      "image/png": "[encoded data removed]",
      "text/plain": [
       "<Figure size 432x288 with 1 Axes>"
      ]
     },
     "metadata": {
      "needs_background": "light"
     },
     "output_type": "display_data"
    }
   ],
   "source": [
    "my_model = np.poly1d(np.polyfit(train_x, train_y, 4))\n",
    "\n",
    "my_line = np.linspace(0, 6, 100)\n",
    "\n",
    "plt.scatter(train_x, train_y)\n",
    "plt.plot(my_line, my_model(my_line))\n",
    "plt.show()\n"
   ]
  },
  {
   "cell_type": "code",
   "execution_count": 25,
   "metadata": {},
   "outputs": [
    {
     "name": "stdout",
     "output_type": "stream",
     "text": [
      "0.7988645544629794\n",
      "0.8086921460343559\n",
      "22.879625918114925\n"
     ]
    }
   ],
   "source": [
    "'''\n",
    "The result can back my suggestion of the data set fitting a polynomial regression, \n",
    "even though it would give us some weird results if we try to predict values outside of the data set. \n",
    "Example: the line indicates that a customer spending 6 minutes in the shop would make a purchase worth 200. \n",
    "That is probably a sign of overfitting.\n",
    "But what about the R-squared score? \n",
    "The R-squared score is a good indicator of how well my data set is fitting the model.\n",
    "'''\n",
    "r2_train_val = r2_score(train_y, my_model(train_x))\n",
    "print(r2_train_val)\n",
    "\n",
    "r2_test_val = r2_score(test_y, my_model(test_x))\n",
    "print(r2_test_val)\n",
    "\n",
    "predict_shop = my_model(5)\n",
    "print(predict_shop)\n",
    "\n",
    "\n",
    "\n"
   ]
  },
  {
   "cell_type": "code",
   "execution_count": 26,
   "metadata": {},
   "outputs": [
    {
     "name": "stdout",
     "output_type": "stream",
     "text": [
      "standard deviation =  0.9035079029052513\n",
      "standard deviation =  37.84501153334721\n",
      "variance =  1432.2448979591834\n"
     ]
    }
   ],
   "source": [
    "# Standard Deviation\n",
    "# Standard deviation is a number that describes how spread out the values are \n",
    "# A low standard deviation means that most of the numbers are close to the mean (average) value.\n",
    "# A high standard deviation means that the values are spread out over a wider range.\n",
    "import numpy as np\n",
    "\n",
    "speed = [86,87,88,86,87,85,86]\n",
    "standard_deviation_val = np.std(speed)\n",
    "print('standard deviation = ',standard_deviation_val)\n",
    "\n",
    "speed = [32,111,138,28,59,77,97]\n",
    "standard_deviation_val = np.std(speed)\n",
    "print('standard deviation = ',standard_deviation_val)\n",
    "\n",
    "# Variance\n",
    "# To calculate the variance you have to do as follows:\n",
    "# 1. Find the mean\n",
    "# 2. For each value: find the difference from the mean\n",
    "# 3. For each difference: find the square value\n",
    "# 4. The variance is the average number of these squared differences\n",
    "# note: standard deviation is the square root of the variance\n",
    "\n",
    "speed = [32,111,138,28,59,77,97]\n",
    "variance_val = np.var(speed)\n",
    "print('variance = ',variance_val)\n",
    "\n",
    "\n"
   ]
  },
  {
   "cell_type": "code",
   "execution_count": 27,
   "metadata": {},
   "outputs": [
    {
     "name": "stdout",
     "output_type": "stream",
     "text": [
      "43.0\n",
      "61.0\n"
     ]
    }
   ],
   "source": [
    "import numpy as np\n",
    "# Percentiles\n",
    "# Percentiles are used in statistics to give you a number that describes the value that a given percent of the values are lower than.\n",
    "# Example: Let's say we have an array of the ages of all the people that lives in a street.\n",
    "\n",
    "ages = [5,31,43,48,50,41,7,11,15,39,80,82,32,2,8,6,25,36,27,61,31]\n",
    "\n",
    "# What is the 75. percentile? The answer is 43, meaning that 75% of the people are 43 or younger.\n",
    "\n",
    "percentiles_val = np.percentile(ages, 75)\n",
    "\n",
    "print(percentiles_val)\n",
    "\n",
    "percentiles_val = np.percentile(ages, 90)\n",
    "\n",
    "print(percentiles_val)"
   ]
  },
  {
   "cell_type": "code",
   "execution_count": 28,
   "metadata": {},
   "outputs": [
    {
     "data": {
      "image/png": "[encoded data removed]",
      "text/plain": [
       "<Figure size 432x288 with 1 Axes>"
      ]
     },
     "metadata": {
      "needs_background": "light"
     },
     "output_type": "display_data"
    }
   ],
   "source": [
    "# Data Distribution\n",
    "# How Can we Get Big Data Sets?\n",
    "# To create big data sets for testing, we use the Python module NumPy, which comes with a number of methods to create random data sets, of any size.\n",
    "\n",
    "# Example\n",
    "# Create an array containing 250 random floats between 0 and 5\n",
    "\n",
    "import numpy as np\n",
    "import matplotlib.pylab as plt \n",
    "\n",
    "random_data = np.random.uniform(0.0, 5.0, 250)\n",
    "\n",
    "plt.hist(random_data, 5)\n",
    "\n",
    "plt.show()\n",
    "\n"
   ]
  },
  {
   "cell_type": "code",
   "execution_count": 29,
   "metadata": {},
   "outputs": [
    {
     "data": {
      "image/png": "[encoded data removed]",
      "text/plain": [
       "<Figure size 432x288 with 1 Axes>"
      ]
     },
     "metadata": {
      "needs_background": "light"
     },
     "output_type": "display_data"
    }
   ],
   "source": [
    "random_data = np.random.uniform(0.0, 5.0, 100000)\n",
    "\n",
    "plt.hist(random_data, 100)\n",
    "\n",
    "plt.show()"
   ]
  },
  {
   "cell_type": "code",
   "execution_count": 30,
   "metadata": {},
   "outputs": [
    {
     "data": {
      "image/png": "[encoded data removed]",
      "text/plain": [
       "<Figure size 432x288 with 1 Axes>"
      ]
     },
     "metadata": {
      "needs_background": "light"
     },
     "output_type": "display_data"
    }
   ],
   "source": [
    "# Normal Data Distribution or the Gaussian data distribution\n",
    "# create an array where the values are concentrated around a given value.\n",
    "\n",
    "import numpy as np\n",
    "import matplotlib.pyplot as plt\n",
    "\n",
    "random_data = np.random.normal(5.0, 1, 100000)\n",
    "\n",
    "plt.hist(random_data, 100)\n",
    "\n",
    "plt.show()\n"
   ]
  },
  {
   "cell_type": "code",
   "execution_count": 31,
   "metadata": {},
   "outputs": [
    {
     "data": {
      "image/png": "[encoded data removed]",
      "text/plain": [
       "<Figure size 432x288 with 1 Axes>"
      ]
     },
     "metadata": {
      "needs_background": "light"
     },
     "output_type": "display_data"
    }
   ],
   "source": [
    "# Random Data Distributions with scatter plot\n",
    "# Let us create two arrays that are both filled with 1000 random numbers from a normal data distribution.\n",
    "# The first array will have the mean set to 5.0 with a standard deviation of 1.0.\n",
    "# The second array will have the mean set to 10.0 with a standard deviation of 2.0\n",
    "\n",
    "import numpy as np\n",
    "import matplotlib.pyplot as plt\n",
    "\n",
    "random_data_1 = np.random.normal(5.0, 1.0, 1000)\n",
    "random_data_2 = np.random.normal(10.0, 2.0, 1000)\n",
    "\n",
    "plt.scatter(random_data_1, random_data_2)\n",
    "\n",
    "plt.show()\n",
    "\n"
   ]
  },
  {
   "cell_type": "code",
   "execution_count": 32,
   "metadata": {},
   "outputs": [
    {
     "data": {
      "image/png": "[encoded data removed]",
      "text/plain": [
       "<Figure size 432x288 with 1 Axes>"
      ]
     },
     "metadata": {
      "needs_background": "light"
     },
     "output_type": "display_data"
    }
   ],
   "source": [
    "plt.hist(random_data_1, 10)\n",
    "plt.show()\n",
    "\n"
   ]
  },
  {
   "cell_type": "code",
   "execution_count": 33,
   "metadata": {},
   "outputs": [
    {
     "data": {
      "image/png": "[encoded data removed]",
      "text/plain": [
       "<Figure size 432x288 with 1 Axes>"
      ]
     },
     "metadata": {
      "needs_background": "light"
     },
     "output_type": "display_data"
    }
   ],
   "source": [
    "plt.hist(random_data_2, 10)\n",
    "plt.show()"
   ]
  },
  {
   "cell_type": "code",
   "execution_count": 34,
   "metadata": {},
   "outputs": [
    {
     "data": {
      "image/png": "[encoded data removed]",
      "text/plain": [
       "<Figure size 432x288 with 1 Axes>"
      ]
     },
     "metadata": {
      "needs_background": "light"
     },
     "output_type": "display_data"
    }
   ],
   "source": [
    "# Regression\n",
    "# The term regression is used when you try to find the relationship between variables.\n",
    "\n",
    "# Linear Regression\n",
    "# Linear regression uses the relationship between the data-points to draw a straight line through all them.\n",
    "# This line can be used to predict future values.\n",
    "\n",
    "# Example\n",
    "# Import scipy and draw the line of Linear Regression:\n",
    "\n",
    "import numpy as np\n",
    "import matplotlib.pylab as plt\n",
    "from scipy import stats \n",
    "\n",
    "# Create the arrays that represent the values of the x and y axis:\n",
    "car_old = [5,7,8,7,2,17,2,9,4,11,12,9,6]\n",
    "car_speed = [99,86,87,88,111,86,103,87,94,78,77,85,86]\n",
    "\n",
    "# Execute a method that returns some important key values of Linear Regression\n",
    "slope, intercept, r, p, std_err = stats.linregress(car_old, car_speed)\n",
    "\n",
    "#Create a function that uses the slope and intercept values to return a new value. \n",
    "# This new value represents where on the y-axis the corresponding x value will be placed\n",
    "def my_func(car_old):\n",
    "  return slope * car_old + intercept\n",
    "\n",
    "#Run each value of the x array through the function. This will result in a new array with new values for the y-axis\n",
    "my_model = list(map(my_func, car_old))\n",
    "\n",
    "plt.scatter(car_old, car_speed)\n",
    "\n",
    "#Draw the line of linear regression\n",
    "plt.plot(car_old, my_model)\n",
    "plt.show()\n",
    "\n"
   ]
  },
  {
   "cell_type": "code",
   "execution_count": 35,
   "metadata": {},
   "outputs": [
    {
     "name": "stdout",
     "output_type": "stream",
     "text": [
      "-0.7585915243761551\n",
      "85.59308314937454\n"
     ]
    }
   ],
   "source": [
    "#This relationship - the coefficient of correlation - is called r.\n",
    "#The r value ranges from -1 to 1, where 0 means no relationship, and 1 (and -1) means 100% related.\n",
    "print(r)\n",
    "\n",
    "# Predict the speed of a 10 years old car\n",
    "\n",
    "predict_speed = my_func(10)\n",
    "\n",
    "print(predict_speed)\n",
    "\n"
   ]
  },
  {
   "cell_type": "code",
   "execution_count": 36,
   "metadata": {},
   "outputs": [
    {
     "data": {
      "image/png": "[encoded data removed]",
      "text/plain": [
       "<Figure size 432x288 with 1 Axes>"
      ]
     },
     "metadata": {
      "needs_background": "light"
     },
     "output_type": "display_data"
    }
   ],
   "source": [
    "# Bad Fit?\n",
    "# Let us create an example where linear regression would not be the best method to predict future values.\n",
    "x = [89,43,36,36,95,10,66,34,38,20,26,29,48,64,6,5,36,66,72,40]\n",
    "y = [21,46,3,35,67,95,53,72,58,10,26,34,90,33,38,20,56,2,47,15]\n",
    "\n",
    "slope, intercept, r, p, std_err = stats.linregress(x, y)\n",
    "\n",
    "def my_func2(x):\n",
    "  return slope * x + intercept\n",
    "\n",
    "my_model2 = list(map(my_func2, x))\n",
    "\n",
    "plt.scatter(x, y)\n",
    "plt.plot(x, my_model2)\n",
    "plt.show()\n",
    "\n",
    "\n",
    "\n"
   ]
  },
  {
   "cell_type": "code",
   "execution_count": 37,
   "metadata": {},
   "outputs": [
    {
     "name": "stdout",
     "output_type": "stream",
     "text": [
      "0.013318141542974947\n"
     ]
    }
   ],
   "source": [
    "print(r)"
   ]
  },
  {
   "cell_type": "code",
   "execution_count": 38,
   "metadata": {},
   "outputs": [
    {
     "data": {
      "image/png": "[encoded data removed]",
      "text/plain": [
       "<Figure size 432x288 with 1 Axes>"
      ]
     },
     "metadata": {
      "needs_background": "light"
     },
     "output_type": "display_data"
    }
   ],
   "source": [
    "# Polynomial Regression\n",
    "# If your data points clearly will not fit a linear regression (a straight line through all data points), \n",
    "# it might be ideal for polynomial regression.\n",
    "\n",
    "import numpy as np\n",
    "import matplotlib.pyplot as plt\n",
    "\n",
    "# In the example below, we have registered 18 cars as they were passing a certain tollbooth.\n",
    "# We have registered the car's speed, and the time of day (hour) the passing occurred.\n",
    "# The x-axis represents the hours of the day and the y-axis represents the speed:\n",
    "\n",
    "x = [1,2,3,5,6,7,8,9,10,12,13,14,15,16,18,19,21,22]\n",
    "y = [100,90,80,60,60,55,60,65,70,70,75,76,78,79,90,99,99,100]\n",
    "\n",
    "# NumPy has a method that lets us make a polynomial model\n",
    "my_model = np.poly1d(np.polyfit(x, y, 3))\n",
    "\n",
    "# Then specify how the line will display, we start at position 1, and end at position 22\n",
    "my_line = np.linspace(1, 22, 100)\n",
    "\n",
    "plt.scatter(x , y)\n",
    "\n",
    "# Draw the line of polynomial regression\n",
    "plt.plot(my_line, my_model(my_line))\n",
    "plt.show()\n",
    "\n"
   ]
  },
  {
   "cell_type": "code",
   "execution_count": 39,
   "metadata": {},
   "outputs": [
    {
     "name": "stdout",
     "output_type": "stream",
     "text": [
      "0.9432150416451026\n",
      "88.87331269698007\n"
     ]
    },
    {
     "data": {
      "image/png": "[encoded data removed]",
      "text/plain": [
       "<Figure size 432x288 with 1 Axes>"
      ]
     },
     "metadata": {
      "needs_background": "light"
     },
     "output_type": "display_data"
    },
    {
     "name": "stdout",
     "output_type": "stream",
     "text": [
      "0.009952707566680652\n"
     ]
    }
   ],
   "source": [
    "# The relationship is measured with a value called the r-squared.\n",
    "# The r-squared value ranges from 0 to 1, where 0 means no relationship, and 1 means 100% related.\n",
    "from sklearn.metrics import r2_score\n",
    "\n",
    "print(r2_score(y, my_model(x)))\n",
    "\n",
    "# Predict the speed of a car passing at 17 P.M:\n",
    "\n",
    "predict_speed = my_model(17)\n",
    "print(predict_speed)\n",
    "\n",
    "# Bad Fit?\n",
    "# Let us create an example where polynomial regression would not be the best method to predict future values\n",
    "\n",
    "x = [89,43,36,36,95,10,66,34,38,20,26,29,48,64,6,5,36,66,72,40]\n",
    "y = [21,46,3,35,67,95,53,72,58,10,26,34,90,33,38,20,56,2,47,15]\n",
    "\n",
    "my_model = np.poly1d(np.polyfit(x, y, 3))\n",
    "\n",
    "my_line = np.linspace(2, 95, 100)\n",
    "\n",
    "plt.scatter(x, y)\n",
    "plt.plot(my_line, my_model(my_line))\n",
    "plt.show()\n",
    "\n",
    "print(r2_score(y, my_model(x)))\n",
    "\n",
    "\n"
   ]
  },
  {
   "cell_type": "code",
   "execution_count": 40,
   "metadata": {},
   "outputs": [
    {
     "name": "stdout",
     "output_type": "stream",
     "text": [
      "[107.2087328]\n",
      "[0.00780526 0.00755095]\n",
      "[114.75968007]\n",
      "[0.00780526 0.00755095]\n"
     ]
    }
   ],
   "source": [
    "# Multiple Regression\n",
    "# Multiple regression is like linear regression, but with more than one independent value,\n",
    "# meaning that we try to predict a value based on two or more variables.\n",
    "import pandas\n",
    "\n",
    "# The Pandas module allows us to read csv files and return a DataFrame object.\n",
    "data_set = pandas.read_csv('cars.csv')\n",
    "\n",
    "# Then make a list of the independent values and call this variable X\n",
    "# Put the dependent values in a variable called y.\n",
    "X = data_set[['Volume', 'Weight']]\n",
    "y = data_set['CO2']\n",
    "\n",
    "# From the sklearn module we will use the LinearRegression() method to create a linear regression object.\n",
    "# This object has a method called fit() that takes the independent and dependent values as parameters \n",
    "# and fills the regression object with data that describes the relationship:\n",
    "from sklearn import linear_model\n",
    "\n",
    "# From the sklearn module we will use the LinearRegression() method to create a linear regression object.\n",
    "regression_obj = linear_model.LinearRegression()\n",
    "\n",
    "# This object has a method called fit() that takes the independent \n",
    "# and dependent values as parameters and fills the regression object with data that describes the relationship\n",
    "regression_obj.fit(X, y)\n",
    "\n",
    "# Now we have a regression object that are ready to predict CO2 values based on a car's weight and volume\n",
    "# predict the CO2 emission of a car where the weight is 2300kg, and the volume is 1300cm3\n",
    "predict_co2 = regression_obj.predict([[1300, 2300]])\n",
    "print(predict_co2)\n",
    "\n",
    "# Coefficient\n",
    "# The coefficient is a factor that describes the relationship with an unknown variable.\n",
    "print(regression_obj.coef_)\n",
    "\n",
    "# We have predicted that a car with 1.3 liter engine, and a weight of 3300 kg, \n",
    "# will release approximately 115 grams of CO2 for every kilometer it drives.\n",
    "# Which shows that the coefficient of 0.00755095 is correct:\n",
    "# 107.2087328 + (1000 * 0.00755095) = 114.75968\n",
    "\n",
    "predict_co2 = regression_obj.predict([[1300, 3300]])\n",
    "print(predict_co2)\n",
    "\n",
    "print(regression_obj.coef_)\n"
   ]
  },
  {
   "cell_type": "code",
   "execution_count": 41,
   "metadata": {},
   "outputs": [
    {
     "name": "stdout",
     "output_type": "stream",
     "text": [
      "[107.2087328]\n"
     ]
    }
   ],
   "source": [
    "# Scale Features\n",
    "# the Python sklearn module has a method called StandardScaler() \n",
    "# which returns a Scaler object with methods for transforming data sets.\n",
    "\n",
    "from sklearn.preprocessing import StandardScaler\n",
    "from sklearn import linear_model\n",
    "import pandas\n",
    "\n",
    "scale = StandardScaler()\n",
    "data_set = pandas.read_csv('cars2.csv')\n",
    "X = data_set[['Volume', 'Weight']]\n",
    "y = data_set['CO2']\n",
    "\n",
    "normalize_X = scale.fit_transform(X)\n",
    "\n",
    "# print(normalize_X)\n",
    "\n",
    "# linear Regression\n",
    "regression_obj = linear_model.LinearRegression()\n",
    "my_model = regression_obj.fit(normalize_X,y)\n",
    "\n",
    "normalize_param = scale.transform([[1.3, 2300]])\n",
    "\n",
    "predict_co2 = regression_obj.predict([normalize_param[0]])\n",
    "\n",
    "print(predict_co2)\n",
    "\n",
    "\n",
    "\n"
   ]
  },
  {
   "cell_type": "code",
   "execution_count": 42,
   "metadata": {},
   "outputs": [
    {
     "data": {
      "image/png": "[encoded data removed]",
      "text/plain": [
       "<Figure size 432x288 with 1 Axes>"
      ]
     },
     "metadata": {
      "needs_background": "light"
     },
     "output_type": "display_data"
    }
   ],
   "source": [
    "# Evaluate Your Model\n",
    "# Train/Test is a method to measure the accuracy of your model.\n",
    "# It is called Train/Test because you split the the data set into two sets: a training set and a testing set.\n",
    "# Train the model means create the model.\n",
    "# Test the model means test the accuracy of the model.\n",
    "import numpy as np\n",
    "import matplotlib.pyplot as plt\n",
    "from sklearn.metrics import r2_score\n",
    "\n",
    "np.random.seed(2)\n",
    "# Our data set illustrates 100 customers in a shop, and their shopping habits.\n",
    "x = np.random.normal(3, 1, 100)\n",
    "y = np.random.normal(150, 40, 100) / x\n",
    "\n",
    "plt.scatter(x, y)\n",
    "plt.show()\n",
    "\n"
   ]
  },
  {
   "cell_type": "code",
   "execution_count": 43,
   "metadata": {},
   "outputs": [
    {
     "data": {
      "image/png": "[encoded data removed]",
      "text/plain": [
       "<Figure size 432x288 with 1 Axes>"
      ]
     },
     "metadata": {
      "needs_background": "light"
     },
     "output_type": "display_data"
    }
   ],
   "source": [
    "# Split Into Train/Test\n",
    "# The training set should be a random selection of 80% of the original data.\n",
    "# The testing set should be the remaining 20%.\n",
    "train_x = x[:80]\n",
    "train_y = y[:80]\n",
    "\n",
    "test_x = x[80:]\n",
    "test_y = y[80:]\n",
    "\n",
    "plt.scatter(train_x, train_y)\n",
    "plt.show()\n",
    "\n"
   ]
  },
  {
   "cell_type": "code",
   "execution_count": 44,
   "metadata": {},
   "outputs": [
    {
     "name": "stdout",
     "output_type": "stream",
     "text": [
      "    Age  Experience  Rank Nationality   Go\n",
      "0    36          10     9          UK   NO\n",
      "1    42          12     4         USA   NO\n",
      "2    23           4     6           N   NO\n",
      "3    52           4     4         USA   NO\n",
      "4    43          21     8         USA  YES\n",
      "5    44          14     5          UK   NO\n",
      "6    66           3     7           N  YES\n",
      "7    35          14     9          UK  YES\n",
      "8    52          13     7           N  YES\n",
      "9    35           5     9           N  YES\n",
      "10   24           3     5         USA   NO\n",
      "11   18           3     7          UK  YES\n",
      "12   45           9     9          UK  YES\n"
     ]
    }
   ],
   "source": [
    "# Decision Tree\n",
    "\n",
    "import pandas\n",
    "from sklearn import tree\n",
    "import pydotplus\n",
    "from sklearn.tree import DecisionTreeClassifier\n",
    "import matplotlib.pyplot as plt\n",
    "import matplotlib.image as pltimg\n",
    "\n",
    "data_set = pandas.read_csv('shows.csv')\n",
    "\n",
    "print(data_set)\n",
    "\n"
   ]
  },
  {
   "cell_type": "code",
   "execution_count": 45,
   "metadata": {},
   "outputs": [
    {
     "name": "stdout",
     "output_type": "stream",
     "text": [
      "    Age  Experience  Rank  Nationality  Go\n",
      "0    36          10     9            0   0\n",
      "1    42          12     4            1   0\n",
      "2    23           4     6            2   0\n",
      "3    52           4     4            1   0\n",
      "4    43          21     8            1   1\n",
      "5    44          14     5            0   0\n",
      "6    66           3     7            2   1\n",
      "7    35          14     9            0   1\n",
      "8    52          13     7            2   1\n",
      "9    35           5     9            2   1\n",
      "10   24           3     5            1   0\n",
      "11   18           3     7            0   1\n",
      "12   45           9     9            0   1\n"
     ]
    }
   ],
   "source": [
    "# To make a decision tree, all data has to be numerical.\n",
    "data_map = {'UK': 0, 'USA': 1, 'N': 2}\n",
    "\n",
    "# map data sring to number\n",
    "data_set['Nationality'] = data_set['Nationality'].map(data_map)\n",
    "\n",
    "data_map = {'YES': 1, 'NO': 0}\n",
    "data_set['Go'] = data_set['Go'].map(data_map)\n",
    "\n",
    "print(data_set)\n",
    "\n"
   ]
  },
  {
   "cell_type": "code",
   "execution_count": 46,
   "metadata": {},
   "outputs": [
    {
     "name": "stdout",
     "output_type": "stream",
     "text": [
      "    Age  Experience  Rank  Nationality\n",
      "0    36          10     9            0\n",
      "1    42          12     4            1\n",
      "2    23           4     6            2\n",
      "3    52           4     4            1\n",
      "4    43          21     8            1\n",
      "5    44          14     5            0\n",
      "6    66           3     7            2\n",
      "7    35          14     9            0\n",
      "8    52          13     7            2\n",
      "9    35           5     9            2\n",
      "10   24           3     5            1\n",
      "11   18           3     7            0\n",
      "12   45           9     9            0\n",
      "0     0\n",
      "1     0\n",
      "2     0\n",
      "3     0\n",
      "4     1\n",
      "5     0\n",
      "6     1\n",
      "7     1\n",
      "8     1\n",
      "9     1\n",
      "10    0\n",
      "11    1\n",
      "12    1\n",
      "Name: Go, dtype: int64\n"
     ]
    }
   ],
   "source": [
    "# Then we have to separate the feature columns from the target column.\n",
    "# X is the feature columns, y is the target column\n",
    "features = ['Age', 'Experience', 'Rank', 'Nationality']\n",
    "X = data_set[features]\n",
    "y = data_set['Go']\n",
    "\n",
    "print(X)\n",
    "print(y)\n",
    "\n",
    "\n"
   ]
  },
  {
   "cell_type": "code",
   "execution_count": 47,
   "metadata": {},
   "outputs": [
    {
     "name": "stdout",
     "output_type": "stream",
     "text": [
      "[1]\n",
      "[0]\n"
     ]
    }
   ],
   "source": [
    "dtree = DecisionTreeClassifier()\n",
    "dtree = dtree.fit(X, y)\n",
    "\n",
    "data = tree.export_graphviz(dtree, out_file=None, feature_names=features)\n",
    "'''\n",
    "graph = pydotplus.graph_from_dot_data(data)\n",
    "graph.write_png('mydecisiontree.png')\n",
    "\n",
    "img=pltimg.imread('mydecisiontree.png')\n",
    "imgplot = plt.imshow(img)\n",
    "plt.show()\n",
    "'''\n",
    "print(dtree.predict([[40, 10, 7, 1]]))\n",
    "print(dtree.predict([[40, 10, 6, 1]]))\n"
   ]
  }
 ],
 "metadata": {
  "interpreter": {
   "hash": "2583954d6a445912fe54837e5cda970fb1139c7a6aeaf20970feea5f56bb4546"
  },
  "kernelspec": {
   "display_name": "Python 3.8.5 64-bit",
   "language": "python",
   "name": "python3"
  },
  "language_info": {
   "codemirror_mode": {
    "name": "ipython",
    "version": 3
   },
   "file_extension": ".py",
   "mimetype": "text/x-python",
   "name": "python",
   "nbconvert_exporter": "python",
   "pygments_lexer": "ipython3",
   "version": "3.8.5"
  },
  "orig_nbformat": 4
 },
 "nbformat": 4,
 "nbformat_minor": 2
}
